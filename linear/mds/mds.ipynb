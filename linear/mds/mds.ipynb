{
 "cells": [
  {
   "cell_type": "markdown",
   "id": "ee697a25-b459-4e25-a83a-e66f793d1c1d",
   "metadata": {},
   "source": [
    "### Define own method that implements Multidimensional Scaling (MDS)"
   ]
  },
  {
   "cell_type": "code",
   "execution_count": 4,
   "id": "b0259e01-b50c-4d7d-a661-c4fa9e7d2536",
   "metadata": {},
   "outputs": [],
   "source": [
    "# Imports\n",
    "from sklearn.preprocessing import MinMaxScaler\n",
    "from sklearn.metrics import pairwise_distances\n",
    "\n",
    "import numpy as np\n",
    "from numpy import linalg as LA\n",
    "\n",
    "import matplotlib.pyplot as plt\n",
    "from matplotlib import offsetbox"
   ]
  },
  {
   "cell_type": "code",
   "execution_count": 3,
   "id": "78602429-267b-4110-8bb2-5685adb9f4ef",
   "metadata": {},
   "outputs": [],
   "source": [
    "def get_mds(X, dim, typ='C'):\n",
    "    \"\"\" Dimensionality reduction with MDS\n",
    "\n",
    "    Keyword arguments:\n",
    "    X -- Data matrix with M rows (observations) and N columns (features)\n",
    "    dim -- Reduced number of dimensions\n",
    "    typ -- Type of MDS. 'C' or 'Classical' for CMDS.\n",
    "    \"\"\"\n",
    "\n",
    "    # M observations, N features    \n",
    "    M = X.shape[0]\n",
    "    N = X.shape[1]\n",
    "\n",
    "    # Step 0: Calculate similarities matrix\n",
    "    # Classical MDS means Euclidean distances\n",
    "    if typ in ['C', 'Classical']:\n",
    "\n",
    "        D = pairwise_distances(X, metric='euclidean')\n",
    "        \n",
    "    # Only 'C' or 'Classical' are valid inputs\n",
    "    else:\n",
    "\n",
    "        print(\"Only C and Classical are supported inputs for parameter typ\") \n",
    "        return\n",
    "\n",
    "    # Step 1: Calculate centering Gram matrix\n",
    "    # Calculate n-centralizing matrix\n",
    "    H = np.identity(M) - ((1/M) * np.ones((M,M)))\n",
    "\n",
    "    # Define centering Gram matrix\n",
    "    GC = -.5 * (H @ (D**2) @ H)\n",
    "\n",
    "    # Step 2: Spectral decomposition\n",
    "    U, S, _ = LA.svd(GC, full_matrices=True)\n",
    "\n",
    "    # Step 3: Define dimensionality reduction of X\n",
    "    Y = np.diag(np.sqrt(S[0:dim])) @ U[:,0:dim].T\n",
    "\n",
    "    return Y"
   ]
  },
  {
   "cell_type": "code",
   "execution_count": 2,
   "id": "5a7d2d8c-7b01-411c-994d-634ca304d474",
   "metadata": {},
   "outputs": [],
   "source": [
    "def plot_embedding(X, title):\n",
    "    \"\"\" Plot ISOMAP embedding.\n",
    "\n",
    "    Keyword arguments:\n",
    "    X -- Data matrix with M rows (observations) and N columns (features)\n",
    "    title -- Title of plot\n",
    "    \"\"\"\n",
    "    # Plot\n",
    "    _, ax = plt.subplots()\n",
    "    X = MinMaxScaler().fit_transform(X)\n",
    "\n",
    "    for digit in digits.target_names:\n",
    "        ax.scatter(\n",
    "            *X[y == digit].T,\n",
    "            marker=f\"${digit}$\",\n",
    "            s=60,\n",
    "            color=plt.cm.Dark2(digit),\n",
    "            alpha=0.425,\n",
    "            zorder=2,\n",
    "        )\n",
    "    shown_images = np.array([[1.0, 1.0]])  # just something big\n",
    "    for i in range(X.shape[0]):\n",
    "        # plot every digit on the embedding\n",
    "        # show an annotation box for a group of digits\n",
    "        dist = np.sum((X[i] - shown_images) ** 2, 1)\n",
    "        if np.min(dist) < 4e-3:\n",
    "            # don't show points that are too close\n",
    "            continue\n",
    "        shown_images = np.concatenate([shown_images, [X[i]]], axis=0)\n",
    "        imagebox = offsetbox.AnnotationBbox(\n",
    "            offsetbox.OffsetImage(digits.images[i], cmap=plt.cm.gray_r), X[i]\n",
    "        )\n",
    "        imagebox.set(zorder=1)\n",
    "        ax.add_artist(imagebox)\n",
    "\n",
    "    ax.set_title(title)\n",
    "    ax.axis(\"off\")"
   ]
  }
 ],
 "metadata": {
  "kernelspec": {
   "display_name": "Python 3 (ipykernel)",
   "language": "python",
   "name": "python3"
  },
  "language_info": {
   "codemirror_mode": {
    "name": "ipython",
    "version": 3
   },
   "file_extension": ".py",
   "mimetype": "text/x-python",
   "name": "python",
   "nbconvert_exporter": "python",
   "pygments_lexer": "ipython3",
   "version": "3.10.14"
  }
 },
 "nbformat": 4,
 "nbformat_minor": 5
}
