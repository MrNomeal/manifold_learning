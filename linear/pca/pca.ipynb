{
 "cells": [
  {
   "cell_type": "markdown",
   "id": "dd2381cd-f095-49bd-98b7-7684cd380268",
   "metadata": {},
   "source": [
    "### Implementation of Principal Components Analysis (PCA)"
   ]
  },
  {
   "cell_type": "code",
   "execution_count": 1,
   "id": "87e03c3a-ab80-4daa-abf5-9c4ff9087e5f",
   "metadata": {},
   "outputs": [],
   "source": [
    "# Imports\n",
    "import numpy as np"
   ]
  },
  {
   "cell_type": "code",
   "execution_count": 2,
   "id": "51993765-bfa6-461a-8d23-02666e534bb9",
   "metadata": {},
   "outputs": [],
   "source": [
    "def get_pca(X, dim):\n",
    "    \"\"\" Dimensionalty reduction with PCA.\n",
    "\n",
    "    Keyword arguments:\n",
    "    X -- Data matrix with M rows (observations) and N columns (features)\n",
    "    dim -- Reduced number of dimensions\n",
    "    \"\"\"\n",
    "    \n",
    "    # M observations, N features    \n",
    "    M = X.shape[0]\n",
    "    N = X.shape[1]\n",
    "\n",
    "    # Step 1: Calculate empirical mean along each column and substract it from each value of X\n",
    "    mu = np.mean(X,0)\n",
    "    X0 = X - mu\n",
    "\n",
    "    # Step 2: Find the empirical covariance matrix\n",
    "    C = (1 / (M-1)) * X0.T @ X0\n",
    "\n",
    "    # Step 3: Compute the eigenvalues and eigenvectors of C and sort them\n",
    "    eigenvalues, eigenvectors = np.linalg.eig(C)\n",
    "\n",
    "    # Step 4: Order eigenvalues and corresponding left eigenvectors in descending order, select terms from one to selected dimension\n",
    "    idx = eigenvalues.argsort()[::-1]\n",
    "    eigenvalues_dim = eigenvalues[idx][0:dim]\n",
    "    eigenvectors_dim = eigenvectors[:,idx][:,0:dim]\n",
    "    \n",
    "    # Step 5: Apply projection and obtain dimensionality reduction\n",
    "    Y = eigenvectors_dim.T @ X.T\n",
    "    \n",
    "    return Y"
   ]
  },
  {
   "cell_type": "code",
   "execution_count": null,
   "id": "54e18a75-8d70-427c-ac75-3c3ca3920b88",
   "metadata": {},
   "outputs": [],
   "source": []
  }
 ],
 "metadata": {
  "kernelspec": {
   "display_name": "Python 3 (ipykernel)",
   "language": "python",
   "name": "python3"
  },
  "language_info": {
   "codemirror_mode": {
    "name": "ipython",
    "version": 3
   },
   "file_extension": ".py",
   "mimetype": "text/x-python",
   "name": "python",
   "nbconvert_exporter": "python",
   "pygments_lexer": "ipython3",
   "version": "3.10.14"
  }
 },
 "nbformat": 4,
 "nbformat_minor": 5
}
