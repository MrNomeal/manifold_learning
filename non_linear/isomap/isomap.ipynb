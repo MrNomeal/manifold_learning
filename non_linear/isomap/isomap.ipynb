{
 "cells": [
  {
   "cell_type": "markdown",
   "id": "93021e35-2381-4c26-b3e9-f713c461292f",
   "metadata": {
    "editable": true,
    "slideshow": {
     "slide_type": ""
    },
    "tags": []
   },
   "source": [
    "### Define own method that implements Isometric Feature Mapping (ISOMAP)"
   ]
  },
  {
   "cell_type": "code",
   "execution_count": 1,
   "id": "8094bf5c-5cce-4713-8b07-83b8b0b7b37b",
   "metadata": {
    "editable": true,
    "slideshow": {
     "slide_type": ""
    },
    "tags": []
   },
   "outputs": [],
   "source": [
    "# Imports\n",
    "from sklearn.neighbors import NearestNeighbors\n",
    "from sklearn.preprocessing import MinMaxScaler\n",
    "\n",
    "from scipy.spatial import distance\n",
    "from scipy.sparse.csgraph import dijkstra\n",
    "\n",
    "import numpy as np\n",
    "from numpy import linalg as LA\n",
    "\n",
    "import matplotlib.pyplot as plt\n",
    "from matplotlib import offsetbox"
   ]
  },
  {
   "cell_type": "code",
   "execution_count": 2,
   "id": "2ce3b1f2-67d0-4db2-8a4f-c9339829d988",
   "metadata": {
    "editable": true,
    "slideshow": {
     "slide_type": ""
    },
    "tags": []
   },
   "outputs": [],
   "source": [
    "def get_isomap(X, n_neighbors, d, nghbd_def='k'):\n",
    "    \"\"\" Dimensionalty reduction with ISOMAP.\n",
    "\n",
    "    Keyword arguments:\n",
    "    X -- Data matrix with M rows (observations) and N columns (features)\n",
    "    d -- Reduced number of dimensions\n",
    "    nghbd_def -- Selection of approach, either 'c' for k-Isomap or 'eps' for eps-Isomap (default 'k')\n",
    "    \"\"\"\n",
    "\n",
    "    # Save number of samples and number of features\n",
    "    n_samples, n_features = X.shape\n",
    "\n",
    "    # Step 1: Calculate the graph based on the choisen neighborhood definition\n",
    "    # k-neighborhood\n",
    "    if nghbd_def=='k':\n",
    "\n",
    "        # Calculate k-nearest-neighbors graph\n",
    "        nbrs = NearestNeighbors(n_neighbors=n_neighbors, algorithm='ball_tree').fit(X)\n",
    "        knn = nbrs.kneighbors_graph(X).toarray()\n",
    "\n",
    "    # eps-neighborhood \n",
    "    elif nghbd_def=='eps':\n",
    "\n",
    "        # Calculate eps-neighborhood graph (TODO)\n",
    "        pass\n",
    "\n",
    "    # Only 'k' or 'eps' are valid inputs\n",
    "    else:\n",
    "\n",
    "        print(\"Only k and eps are supported inputs for parameter nghbd_def\") \n",
    "        return\n",
    "\n",
    "    # Step 2: Graph distance computation\n",
    "    distance_graph = distance.cdist(X,X)\n",
    "    DG = dijkstra(knn * distance_graph, directed=False)     \n",
    "\n",
    "    # Replace inf values with high number (TODO: Improve)\n",
    "    DG[DG==np.inf] = 1000000\n",
    "\n",
    "    # Step 3: Calculate centering Gram matrix \n",
    "    SG = DG ** 2\n",
    "\n",
    "    # Calculate n-centralizing matrix\n",
    "    H = np.identity(n_samples) - ((1/n_samples) * np.ones((n_samples,n_samples)))\n",
    "\n",
    "    # Define kernel of Isomap DR method\n",
    "    GC = -.5 * (H @ SG @ H)\n",
    "\n",
    "    # Check if GC is positive semi-definite and if positive adjust GC\n",
    "    eps = np.finfo(float).eps\n",
    "    if not np.all(np.linalg.eigvals(GC) > -eps*abs(max(np.linalg.eigvals(GC)))):\n",
    "        \n",
    "    \n",
    "        # Step 3-1: Computation of shifting constant\n",
    "        FC = -.5 * (H @ DG @ H)\n",
    "\n",
    "        # Step 3-2: Constant-shift adjustment\n",
    "        eigenvalues, _ = LA.eig(np.block([[np.zeros((n_samples,n_samples)), 2 * GC], [-np.identity(n_samples), -4 * FC]]))\n",
    "        t = max(eigenvalues)\n",
    "        \n",
    "        GC1 = GC\n",
    "        GC2 = 2 * t * FC\n",
    "        GC3 = .5 * t * t * H\n",
    "        GC = GC1 + GC2 + GC3\n",
    "\n",
    "        # Check if adjusted GC is positive semi-definite\n",
    "        if not np.all(np.linalg.eigvals(GC) > -eps*abs(max(np.linalg.eigvals(GC)))):\n",
    "\n",
    "            print(\"Constant-shift adjusted kernel is not psd. Process aborted,\")\n",
    "            return\n",
    "\n",
    "    # Step 4: Eigen decomposition\n",
    "    eigenvalues, eigenvectors = LA.eig(GC)\n",
    "    \n",
    "    # Sort eigenvalues and eigenvectors\n",
    "    idx = eigenvalues.argsort()[::-1]   \n",
    "    eigenvalues = eigenvalues[idx]\n",
    "    eigenvectors = eigenvectors[:,idx]\n",
    "\n",
    "    # Step 5: Define dimensionality reduction of X\n",
    "    Yprime = np.sqrt(eigenvalues[0:d]) * eigenvectors[:,0:d]\n",
    "\n",
    "    return Yprime"
   ]
  },
  {
   "cell_type": "code",
   "execution_count": 3,
   "id": "80bfecb4-2da0-4e7d-b16e-00665e17a3fa",
   "metadata": {
    "editable": true,
    "slideshow": {
     "slide_type": ""
    },
    "tags": []
   },
   "outputs": [],
   "source": [
    "def plot_embedding(X, title):\n",
    "    \"\"\" Plot ISOMAP embedding.\n",
    "\n",
    "    Keyword arguments:\n",
    "    X -- Data matrix with M rows (observations) and N columns (features)\n",
    "    title -- Title of plot\n",
    "    \"\"\"\n",
    "    # Plot\n",
    "    _, ax = plt.subplots()\n",
    "    X = MinMaxScaler().fit_transform(X)\n",
    "\n",
    "    for digit in digits.target_names:\n",
    "        ax.scatter(\n",
    "            *X[y == digit].T,\n",
    "            marker=f\"${digit}$\",\n",
    "            s=60,\n",
    "            color=plt.cm.Dark2(digit),\n",
    "            alpha=0.425,\n",
    "            zorder=2,\n",
    "        )\n",
    "    shown_images = np.array([[1.0, 1.0]])  # just something big\n",
    "    for i in range(X.shape[0]):\n",
    "        # plot every digit on the embedding\n",
    "        # show an annotation box for a group of digits\n",
    "        dist = np.sum((X[i] - shown_images) ** 2, 1)\n",
    "        if np.min(dist) < 4e-3:\n",
    "            # don't show points that are too close\n",
    "            continue\n",
    "        shown_images = np.concatenate([shown_images, [X[i]]], axis=0)\n",
    "        imagebox = offsetbox.AnnotationBbox(\n",
    "            offsetbox.OffsetImage(digits.images[i], cmap=plt.cm.gray_r), X[i]\n",
    "        )\n",
    "        imagebox.set(zorder=1)\n",
    "        ax.add_artist(imagebox)\n",
    "\n",
    "    ax.set_title(title)\n",
    "    ax.axis(\"off\")"
   ]
  },
  {
   "cell_type": "code",
   "execution_count": null,
   "id": "268117d4-e143-4179-959d-eb9f9d7550e9",
   "metadata": {},
   "outputs": [],
   "source": []
  }
 ],
 "metadata": {
  "kernelspec": {
   "display_name": "Python 3 (ipykernel)",
   "language": "python",
   "name": "python3"
  },
  "language_info": {
   "codemirror_mode": {
    "name": "ipython",
    "version": 3
   },
   "file_extension": ".py",
   "mimetype": "text/x-python",
   "name": "python",
   "nbconvert_exporter": "python",
   "pygments_lexer": "ipython3",
   "version": "3.10.14"
  }
 },
 "nbformat": 4,
 "nbformat_minor": 5
}
